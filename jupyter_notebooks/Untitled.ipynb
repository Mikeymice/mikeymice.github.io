{
 "cells": [
  {
   "cell_type": "markdown",
   "metadata": {},
   "source": [
    "## Introduction\n",
    "\n",
    "There are many powerful tools and packages in **R**. I have been spoiled by the convenient tools for interpretation. For example, the `lm` package provides readable summary output and easy to use formula as input for the model. However, things are not as easy and out of box in the `python` world. Although the machine learning packages such as `sklearn` and `tensoflow` are mature, things can be tricky when we deal with linear regression and categorical variable.\n",
    "\n",
    "Recently, I have opportunity to work with a company for my capstone project. The company has strong preference for python language. One of the main objectives of the project is interpretibility. The golden rule of interpretibility is to avoid the black box machine learning model such as neural network. Our group decide to use logistic regression for our project. Being familiar with *R* package and the conveniency of use of formula and under-the-hood of handling of categorical variables, we were surprised of how complicated things can be with python. Given that pandas pacakge come with its `get_dummy` function, it comes with the imfamous [dummy trap](https://www.algosome.com/articles/dummy-variable-trap-regression.html).\n",
    "\n",
    "Thanksfully, [Statsmodel](https://www.statsmodels.org/stable/index.html) comes in for the rescue. Statsmodel is a Python module that provides classes and functions for the estimation of many different statistical models. It also support *R*-style formula. \n"
   ]
  },
  {
   "cell_type": "code",
   "execution_count": 4,
   "metadata": {
    "ExecuteTime": {
     "end_time": "2019-05-27T19:27:51.734605Z",
     "start_time": "2019-05-27T19:27:50.792865Z"
    }
   },
   "outputs": [],
   "source": [
    "import numpy as np\n",
    "import statsmodels.api as sm\n",
    "import statsmodels.formula.api as smf"
   ]
  },
  {
   "cell_type": "code",
   "execution_count": 5,
   "metadata": {
    "ExecuteTime": {
     "end_time": "2019-05-27T19:27:53.088691Z",
     "start_time": "2019-05-27T19:27:51.747256Z"
    }
   },
   "outputs": [],
   "source": [
    "# load data \n",
    "dat = sm.datasets.get_rdataset(\"Guerry\", \"HistData\").data"
   ]
  },
  {
   "cell_type": "markdown",
   "metadata": {},
   "source": [
    "Let's take a pick at our data!"
   ]
  },
  {
   "cell_type": "code",
   "execution_count": 6,
   "metadata": {
    "ExecuteTime": {
     "end_time": "2019-05-27T19:27:53.168121Z",
     "start_time": "2019-05-27T19:27:53.147796Z"
    }
   },
   "outputs": [
    {
     "data": {
      "text/html": [
       "<div>\n",
       "<style scoped>\n",
       "    .dataframe tbody tr th:only-of-type {\n",
       "        vertical-align: middle;\n",
       "    }\n",
       "\n",
       "    .dataframe tbody tr th {\n",
       "        vertical-align: top;\n",
       "    }\n",
       "\n",
       "    .dataframe thead th {\n",
       "        text-align: right;\n",
       "    }\n",
       "</style>\n",
       "<table border=\"1\" class=\"dataframe\">\n",
       "  <thead>\n",
       "    <tr style=\"text-align: right;\">\n",
       "      <th></th>\n",
       "      <th>dept</th>\n",
       "      <th>Region</th>\n",
       "      <th>Department</th>\n",
       "      <th>Crime_pers</th>\n",
       "      <th>Crime_prop</th>\n",
       "      <th>Literacy</th>\n",
       "      <th>Donations</th>\n",
       "      <th>Infants</th>\n",
       "      <th>Suicides</th>\n",
       "      <th>MainCity</th>\n",
       "      <th>...</th>\n",
       "      <th>Crime_parents</th>\n",
       "      <th>Infanticide</th>\n",
       "      <th>Donation_clergy</th>\n",
       "      <th>Lottery</th>\n",
       "      <th>Desertion</th>\n",
       "      <th>Instruction</th>\n",
       "      <th>Prostitutes</th>\n",
       "      <th>Distance</th>\n",
       "      <th>Area</th>\n",
       "      <th>Pop1831</th>\n",
       "    </tr>\n",
       "  </thead>\n",
       "  <tbody>\n",
       "    <tr>\n",
       "      <th>0</th>\n",
       "      <td>1</td>\n",
       "      <td>E</td>\n",
       "      <td>Ain</td>\n",
       "      <td>28870</td>\n",
       "      <td>15890</td>\n",
       "      <td>37</td>\n",
       "      <td>5098</td>\n",
       "      <td>33120</td>\n",
       "      <td>35039</td>\n",
       "      <td>2:Med</td>\n",
       "      <td>...</td>\n",
       "      <td>71</td>\n",
       "      <td>60</td>\n",
       "      <td>69</td>\n",
       "      <td>41</td>\n",
       "      <td>55</td>\n",
       "      <td>46</td>\n",
       "      <td>13</td>\n",
       "      <td>218.372</td>\n",
       "      <td>5762</td>\n",
       "      <td>346.03</td>\n",
       "    </tr>\n",
       "    <tr>\n",
       "      <th>1</th>\n",
       "      <td>2</td>\n",
       "      <td>N</td>\n",
       "      <td>Aisne</td>\n",
       "      <td>26226</td>\n",
       "      <td>5521</td>\n",
       "      <td>51</td>\n",
       "      <td>8901</td>\n",
       "      <td>14572</td>\n",
       "      <td>12831</td>\n",
       "      <td>2:Med</td>\n",
       "      <td>...</td>\n",
       "      <td>4</td>\n",
       "      <td>82</td>\n",
       "      <td>36</td>\n",
       "      <td>38</td>\n",
       "      <td>82</td>\n",
       "      <td>24</td>\n",
       "      <td>327</td>\n",
       "      <td>65.945</td>\n",
       "      <td>7369</td>\n",
       "      <td>513.00</td>\n",
       "    </tr>\n",
       "    <tr>\n",
       "      <th>2</th>\n",
       "      <td>3</td>\n",
       "      <td>C</td>\n",
       "      <td>Allier</td>\n",
       "      <td>26747</td>\n",
       "      <td>7925</td>\n",
       "      <td>13</td>\n",
       "      <td>10973</td>\n",
       "      <td>17044</td>\n",
       "      <td>114121</td>\n",
       "      <td>2:Med</td>\n",
       "      <td>...</td>\n",
       "      <td>46</td>\n",
       "      <td>42</td>\n",
       "      <td>76</td>\n",
       "      <td>66</td>\n",
       "      <td>16</td>\n",
       "      <td>85</td>\n",
       "      <td>34</td>\n",
       "      <td>161.927</td>\n",
       "      <td>7340</td>\n",
       "      <td>298.26</td>\n",
       "    </tr>\n",
       "    <tr>\n",
       "      <th>3</th>\n",
       "      <td>4</td>\n",
       "      <td>E</td>\n",
       "      <td>Basses-Alpes</td>\n",
       "      <td>12935</td>\n",
       "      <td>7289</td>\n",
       "      <td>46</td>\n",
       "      <td>2733</td>\n",
       "      <td>23018</td>\n",
       "      <td>14238</td>\n",
       "      <td>1:Sm</td>\n",
       "      <td>...</td>\n",
       "      <td>70</td>\n",
       "      <td>12</td>\n",
       "      <td>37</td>\n",
       "      <td>80</td>\n",
       "      <td>32</td>\n",
       "      <td>29</td>\n",
       "      <td>2</td>\n",
       "      <td>351.399</td>\n",
       "      <td>6925</td>\n",
       "      <td>155.90</td>\n",
       "    </tr>\n",
       "    <tr>\n",
       "      <th>4</th>\n",
       "      <td>5</td>\n",
       "      <td>E</td>\n",
       "      <td>Hautes-Alpes</td>\n",
       "      <td>17488</td>\n",
       "      <td>8174</td>\n",
       "      <td>69</td>\n",
       "      <td>6962</td>\n",
       "      <td>23076</td>\n",
       "      <td>16171</td>\n",
       "      <td>1:Sm</td>\n",
       "      <td>...</td>\n",
       "      <td>22</td>\n",
       "      <td>23</td>\n",
       "      <td>64</td>\n",
       "      <td>79</td>\n",
       "      <td>35</td>\n",
       "      <td>7</td>\n",
       "      <td>1</td>\n",
       "      <td>320.280</td>\n",
       "      <td>5549</td>\n",
       "      <td>129.10</td>\n",
       "    </tr>\n",
       "  </tbody>\n",
       "</table>\n",
       "<p>5 rows × 23 columns</p>\n",
       "</div>"
      ],
      "text/plain": [
       "   dept Region    Department  Crime_pers  Crime_prop  Literacy  Donations  \\\n",
       "0     1      E           Ain       28870       15890        37       5098   \n",
       "1     2      N         Aisne       26226        5521        51       8901   \n",
       "2     3      C        Allier       26747        7925        13      10973   \n",
       "3     4      E  Basses-Alpes       12935        7289        46       2733   \n",
       "4     5      E  Hautes-Alpes       17488        8174        69       6962   \n",
       "\n",
       "   Infants  Suicides MainCity   ...     Crime_parents  Infanticide  \\\n",
       "0    33120     35039    2:Med   ...                71           60   \n",
       "1    14572     12831    2:Med   ...                 4           82   \n",
       "2    17044    114121    2:Med   ...                46           42   \n",
       "3    23018     14238     1:Sm   ...                70           12   \n",
       "4    23076     16171     1:Sm   ...                22           23   \n",
       "\n",
       "   Donation_clergy  Lottery  Desertion  Instruction  Prostitutes  Distance  \\\n",
       "0               69       41         55           46           13   218.372   \n",
       "1               36       38         82           24          327    65.945   \n",
       "2               76       66         16           85           34   161.927   \n",
       "3               37       80         32           29            2   351.399   \n",
       "4               64       79         35            7            1   320.280   \n",
       "\n",
       "   Area  Pop1831  \n",
       "0  5762   346.03  \n",
       "1  7369   513.00  \n",
       "2  7340   298.26  \n",
       "3  6925   155.90  \n",
       "4  5549   129.10  \n",
       "\n",
       "[5 rows x 23 columns]"
      ]
     },
     "execution_count": 6,
     "metadata": {},
     "output_type": "execute_result"
    }
   ],
   "source": [
    "dat.head()"
   ]
  },
  {
   "cell_type": "markdown",
   "metadata": {},
   "source": [
    "We can use `R`-style formula with the new api from stastsmodel!"
   ]
  },
  {
   "cell_type": "code",
   "execution_count": 7,
   "metadata": {
    "ExecuteTime": {
     "end_time": "2019-05-27T19:27:53.527968Z",
     "start_time": "2019-05-27T19:27:53.516318Z"
    }
   },
   "outputs": [],
   "source": [
    "results = smf.ols('Lottery ~ Literacy + np.log(Pop1831)', data=dat).fit()"
   ]
  },
  {
   "cell_type": "markdown",
   "metadata": {},
   "source": [
    "One of the great advantage of statsmodel is that it provide readable summary report for the models. "
   ]
  },
  {
   "cell_type": "code",
   "execution_count": 8,
   "metadata": {
    "ExecuteTime": {
     "end_time": "2019-05-27T19:27:54.233394Z",
     "start_time": "2019-05-27T19:27:54.220830Z"
    }
   },
   "outputs": [
    {
     "name": "stdout",
     "output_type": "stream",
     "text": [
      "                            OLS Regression Results                            \n",
      "==============================================================================\n",
      "Dep. Variable:                Lottery   R-squared:                       0.348\n",
      "Model:                            OLS   Adj. R-squared:                  0.333\n",
      "Method:                 Least Squares   F-statistic:                     22.20\n",
      "Date:                Mon, 27 May 2019   Prob (F-statistic):           1.90e-08\n",
      "Time:                        12:27:54   Log-Likelihood:                -379.82\n",
      "No. Observations:                  86   AIC:                             765.6\n",
      "Df Residuals:                      83   BIC:                             773.0\n",
      "Df Model:                           2                                         \n",
      "Covariance Type:            nonrobust                                         \n",
      "===================================================================================\n",
      "                      coef    std err          t      P>|t|      [0.025      0.975]\n",
      "-----------------------------------------------------------------------------------\n",
      "Intercept         246.4341     35.233      6.995      0.000     176.358     316.510\n",
      "Literacy           -0.4889      0.128     -3.832      0.000      -0.743      -0.235\n",
      "np.log(Pop1831)   -31.3114      5.977     -5.239      0.000     -43.199     -19.424\n",
      "==============================================================================\n",
      "Omnibus:                        3.713   Durbin-Watson:                   2.019\n",
      "Prob(Omnibus):                  0.156   Jarque-Bera (JB):                3.394\n",
      "Skew:                          -0.487   Prob(JB):                        0.183\n",
      "Kurtosis:                       3.003   Cond. No.                         702.\n",
      "==============================================================================\n",
      "\n",
      "Warnings:\n",
      "[1] Standard Errors assume that the covariance matrix of the errors is correctly specified.\n"
     ]
    }
   ],
   "source": [
    "print(results.summary())"
   ]
  },
  {
   "cell_type": "markdown",
   "metadata": {},
   "source": [
    "However, there ares still some short coming from the package. For example, the current implementation of **Logistic Regression** does not support weight for the variables. Although **glm** does have `freq_weight` and other parameters, they are not well tested and documented. This can be troublesome when we are dealing with imbalanced data. "
   ]
  },
  {
   "cell_type": "markdown",
   "metadata": {},
   "source": [
    "A good way to solve this problem is to use **sklearn** package. What if we can use R-style formula with sklearn?\n",
    "\n",
    "The answer is **YES, WE CAN**\n",
    "\n"
   ]
  },
  {
   "cell_type": "code",
   "execution_count": null,
   "metadata": {},
   "outputs": [],
   "source": []
  },
  {
   "cell_type": "code",
   "execution_count": null,
   "metadata": {},
   "outputs": [],
   "source": []
  },
  {
   "cell_type": "markdown",
   "metadata": {},
   "source": [
    "under the hood of statsmodel, the formula is handled by the patsy, which is the package which handles the formula. \n",
    "\n",
    "We can actually use patsy api to return the dataframe X and y for the sklearn model from our data"
   ]
  },
  {
   "cell_type": "markdown",
   "metadata": {},
   "source": [
    "The function we will be using is [dmatrices](https://patsy.readthedocs.io/en/latest/API-reference.html#patsy.dmatrices). We will use \"dataframe\" for our `return_type`"
   ]
  },
  {
   "cell_type": "code",
   "execution_count": 12,
   "metadata": {
    "ExecuteTime": {
     "end_time": "2019-05-27T19:28:24.451724Z",
     "start_time": "2019-05-27T19:28:24.443404Z"
    }
   },
   "outputs": [],
   "source": [
    "from patsy import dmatrices, dmatrix, demo_data\n",
    "\n",
    "y, X = dmatrices(\"Lottery ~ Literacy + np.log(Pop1831)\", data = dat, return_type= \"dataframe\")"
   ]
  },
  {
   "cell_type": "code",
   "execution_count": 15,
   "metadata": {
    "ExecuteTime": {
     "end_time": "2019-05-27T19:28:36.377493Z",
     "start_time": "2019-05-27T19:28:36.368880Z"
    }
   },
   "outputs": [
    {
     "data": {
      "text/html": [
       "<div>\n",
       "<style scoped>\n",
       "    .dataframe tbody tr th:only-of-type {\n",
       "        vertical-align: middle;\n",
       "    }\n",
       "\n",
       "    .dataframe tbody tr th {\n",
       "        vertical-align: top;\n",
       "    }\n",
       "\n",
       "    .dataframe thead th {\n",
       "        text-align: right;\n",
       "    }\n",
       "</style>\n",
       "<table border=\"1\" class=\"dataframe\">\n",
       "  <thead>\n",
       "    <tr style=\"text-align: right;\">\n",
       "      <th></th>\n",
       "      <th>Intercept</th>\n",
       "      <th>Literacy</th>\n",
       "      <th>np.log(Pop1831)</th>\n",
       "    </tr>\n",
       "  </thead>\n",
       "  <tbody>\n",
       "    <tr>\n",
       "      <th>0</th>\n",
       "      <td>1.0</td>\n",
       "      <td>37.0</td>\n",
       "      <td>5.846525</td>\n",
       "    </tr>\n",
       "    <tr>\n",
       "      <th>1</th>\n",
       "      <td>1.0</td>\n",
       "      <td>51.0</td>\n",
       "      <td>6.240276</td>\n",
       "    </tr>\n",
       "    <tr>\n",
       "      <th>2</th>\n",
       "      <td>1.0</td>\n",
       "      <td>13.0</td>\n",
       "      <td>5.697966</td>\n",
       "    </tr>\n",
       "    <tr>\n",
       "      <th>3</th>\n",
       "      <td>1.0</td>\n",
       "      <td>46.0</td>\n",
       "      <td>5.049215</td>\n",
       "    </tr>\n",
       "    <tr>\n",
       "      <th>4</th>\n",
       "      <td>1.0</td>\n",
       "      <td>69.0</td>\n",
       "      <td>4.860587</td>\n",
       "    </tr>\n",
       "  </tbody>\n",
       "</table>\n",
       "</div>"
      ],
      "text/plain": [
       "   Intercept  Literacy  np.log(Pop1831)\n",
       "0        1.0      37.0         5.846525\n",
       "1        1.0      51.0         6.240276\n",
       "2        1.0      13.0         5.697966\n",
       "3        1.0      46.0         5.049215\n",
       "4        1.0      69.0         4.860587"
      ]
     },
     "execution_count": 15,
     "metadata": {},
     "output_type": "execute_result"
    }
   ],
   "source": [
    "X.head()"
   ]
  },
  {
   "cell_type": "code",
   "execution_count": 16,
   "metadata": {
    "ExecuteTime": {
     "end_time": "2019-05-27T19:28:41.200890Z",
     "start_time": "2019-05-27T19:28:41.193633Z"
    }
   },
   "outputs": [
    {
     "data": {
      "text/html": [
       "<div>\n",
       "<style scoped>\n",
       "    .dataframe tbody tr th:only-of-type {\n",
       "        vertical-align: middle;\n",
       "    }\n",
       "\n",
       "    .dataframe tbody tr th {\n",
       "        vertical-align: top;\n",
       "    }\n",
       "\n",
       "    .dataframe thead th {\n",
       "        text-align: right;\n",
       "    }\n",
       "</style>\n",
       "<table border=\"1\" class=\"dataframe\">\n",
       "  <thead>\n",
       "    <tr style=\"text-align: right;\">\n",
       "      <th></th>\n",
       "      <th>Lottery</th>\n",
       "    </tr>\n",
       "  </thead>\n",
       "  <tbody>\n",
       "    <tr>\n",
       "      <th>0</th>\n",
       "      <td>41.0</td>\n",
       "    </tr>\n",
       "    <tr>\n",
       "      <th>1</th>\n",
       "      <td>38.0</td>\n",
       "    </tr>\n",
       "    <tr>\n",
       "      <th>2</th>\n",
       "      <td>66.0</td>\n",
       "    </tr>\n",
       "    <tr>\n",
       "      <th>3</th>\n",
       "      <td>80.0</td>\n",
       "    </tr>\n",
       "    <tr>\n",
       "      <th>4</th>\n",
       "      <td>79.0</td>\n",
       "    </tr>\n",
       "  </tbody>\n",
       "</table>\n",
       "</div>"
      ],
      "text/plain": [
       "   Lottery\n",
       "0     41.0\n",
       "1     38.0\n",
       "2     66.0\n",
       "3     80.0\n",
       "4     79.0"
      ]
     },
     "execution_count": 16,
     "metadata": {},
     "output_type": "execute_result"
    }
   ],
   "source": [
    "y.head()"
   ]
  },
  {
   "cell_type": "markdown",
   "metadata": {},
   "source": [
    "The beauty of the patsy and the formula is that it is much more readable and it can support dummy encoding right from the formula. Let's say we are adding the categorical variable,`department` in our formula and all we need to do is to enclose Department with `C()` (**C** stands for categorical)"
   ]
  },
  {
   "cell_type": "code",
   "execution_count": 19,
   "metadata": {
    "ExecuteTime": {
     "end_time": "2019-05-27T19:33:15.148501Z",
     "start_time": "2019-05-27T19:33:15.134541Z"
    }
   },
   "outputs": [],
   "source": [
    "y, X = dmatrices(\"Lottery ~ Literacy + np.log(Pop1831) +  C(Department)\", data = dat, return_type= \"dataframe\")"
   ]
  },
  {
   "cell_type": "code",
   "execution_count": 20,
   "metadata": {
    "ExecuteTime": {
     "end_time": "2019-05-27T19:33:22.047124Z",
     "start_time": "2019-05-27T19:33:22.023040Z"
    }
   },
   "outputs": [
    {
     "data": {
      "text/html": [
       "<div>\n",
       "<style scoped>\n",
       "    .dataframe tbody tr th:only-of-type {\n",
       "        vertical-align: middle;\n",
       "    }\n",
       "\n",
       "    .dataframe tbody tr th {\n",
       "        vertical-align: top;\n",
       "    }\n",
       "\n",
       "    .dataframe thead th {\n",
       "        text-align: right;\n",
       "    }\n",
       "</style>\n",
       "<table border=\"1\" class=\"dataframe\">\n",
       "  <thead>\n",
       "    <tr style=\"text-align: right;\">\n",
       "      <th></th>\n",
       "      <th>Intercept</th>\n",
       "      <th>C(Department)[T.Aisne]</th>\n",
       "      <th>C(Department)[T.Allier]</th>\n",
       "      <th>C(Department)[T.Ardeche]</th>\n",
       "      <th>C(Department)[T.Ardennes]</th>\n",
       "      <th>C(Department)[T.Ariege]</th>\n",
       "      <th>C(Department)[T.Aube]</th>\n",
       "      <th>C(Department)[T.Aude]</th>\n",
       "      <th>C(Department)[T.Aveyron]</th>\n",
       "      <th>C(Department)[T.Bas-Rhin]</th>\n",
       "      <th>...</th>\n",
       "      <th>C(Department)[T.Tarn]</th>\n",
       "      <th>C(Department)[T.Tarn-et-Garonne]</th>\n",
       "      <th>C(Department)[T.Var]</th>\n",
       "      <th>C(Department)[T.Vaucluse]</th>\n",
       "      <th>C(Department)[T.Vendee]</th>\n",
       "      <th>C(Department)[T.Vienne]</th>\n",
       "      <th>C(Department)[T.Vosges]</th>\n",
       "      <th>C(Department)[T.Yonne]</th>\n",
       "      <th>Literacy</th>\n",
       "      <th>np.log(Pop1831)</th>\n",
       "    </tr>\n",
       "  </thead>\n",
       "  <tbody>\n",
       "    <tr>\n",
       "      <th>0</th>\n",
       "      <td>1.0</td>\n",
       "      <td>0.0</td>\n",
       "      <td>0.0</td>\n",
       "      <td>0.0</td>\n",
       "      <td>0.0</td>\n",
       "      <td>0.0</td>\n",
       "      <td>0.0</td>\n",
       "      <td>0.0</td>\n",
       "      <td>0.0</td>\n",
       "      <td>0.0</td>\n",
       "      <td>...</td>\n",
       "      <td>0.0</td>\n",
       "      <td>0.0</td>\n",
       "      <td>0.0</td>\n",
       "      <td>0.0</td>\n",
       "      <td>0.0</td>\n",
       "      <td>0.0</td>\n",
       "      <td>0.0</td>\n",
       "      <td>0.0</td>\n",
       "      <td>37.0</td>\n",
       "      <td>5.846525</td>\n",
       "    </tr>\n",
       "    <tr>\n",
       "      <th>1</th>\n",
       "      <td>1.0</td>\n",
       "      <td>1.0</td>\n",
       "      <td>0.0</td>\n",
       "      <td>0.0</td>\n",
       "      <td>0.0</td>\n",
       "      <td>0.0</td>\n",
       "      <td>0.0</td>\n",
       "      <td>0.0</td>\n",
       "      <td>0.0</td>\n",
       "      <td>0.0</td>\n",
       "      <td>...</td>\n",
       "      <td>0.0</td>\n",
       "      <td>0.0</td>\n",
       "      <td>0.0</td>\n",
       "      <td>0.0</td>\n",
       "      <td>0.0</td>\n",
       "      <td>0.0</td>\n",
       "      <td>0.0</td>\n",
       "      <td>0.0</td>\n",
       "      <td>51.0</td>\n",
       "      <td>6.240276</td>\n",
       "    </tr>\n",
       "    <tr>\n",
       "      <th>2</th>\n",
       "      <td>1.0</td>\n",
       "      <td>0.0</td>\n",
       "      <td>1.0</td>\n",
       "      <td>0.0</td>\n",
       "      <td>0.0</td>\n",
       "      <td>0.0</td>\n",
       "      <td>0.0</td>\n",
       "      <td>0.0</td>\n",
       "      <td>0.0</td>\n",
       "      <td>0.0</td>\n",
       "      <td>...</td>\n",
       "      <td>0.0</td>\n",
       "      <td>0.0</td>\n",
       "      <td>0.0</td>\n",
       "      <td>0.0</td>\n",
       "      <td>0.0</td>\n",
       "      <td>0.0</td>\n",
       "      <td>0.0</td>\n",
       "      <td>0.0</td>\n",
       "      <td>13.0</td>\n",
       "      <td>5.697966</td>\n",
       "    </tr>\n",
       "    <tr>\n",
       "      <th>3</th>\n",
       "      <td>1.0</td>\n",
       "      <td>0.0</td>\n",
       "      <td>0.0</td>\n",
       "      <td>0.0</td>\n",
       "      <td>0.0</td>\n",
       "      <td>0.0</td>\n",
       "      <td>0.0</td>\n",
       "      <td>0.0</td>\n",
       "      <td>0.0</td>\n",
       "      <td>0.0</td>\n",
       "      <td>...</td>\n",
       "      <td>0.0</td>\n",
       "      <td>0.0</td>\n",
       "      <td>0.0</td>\n",
       "      <td>0.0</td>\n",
       "      <td>0.0</td>\n",
       "      <td>0.0</td>\n",
       "      <td>0.0</td>\n",
       "      <td>0.0</td>\n",
       "      <td>46.0</td>\n",
       "      <td>5.049215</td>\n",
       "    </tr>\n",
       "    <tr>\n",
       "      <th>4</th>\n",
       "      <td>1.0</td>\n",
       "      <td>0.0</td>\n",
       "      <td>0.0</td>\n",
       "      <td>0.0</td>\n",
       "      <td>0.0</td>\n",
       "      <td>0.0</td>\n",
       "      <td>0.0</td>\n",
       "      <td>0.0</td>\n",
       "      <td>0.0</td>\n",
       "      <td>0.0</td>\n",
       "      <td>...</td>\n",
       "      <td>0.0</td>\n",
       "      <td>0.0</td>\n",
       "      <td>0.0</td>\n",
       "      <td>0.0</td>\n",
       "      <td>0.0</td>\n",
       "      <td>0.0</td>\n",
       "      <td>0.0</td>\n",
       "      <td>0.0</td>\n",
       "      <td>69.0</td>\n",
       "      <td>4.860587</td>\n",
       "    </tr>\n",
       "  </tbody>\n",
       "</table>\n",
       "<p>5 rows × 88 columns</p>\n",
       "</div>"
      ],
      "text/plain": [
       "   Intercept  C(Department)[T.Aisne]  C(Department)[T.Allier]  \\\n",
       "0        1.0                     0.0                      0.0   \n",
       "1        1.0                     1.0                      0.0   \n",
       "2        1.0                     0.0                      1.0   \n",
       "3        1.0                     0.0                      0.0   \n",
       "4        1.0                     0.0                      0.0   \n",
       "\n",
       "   C(Department)[T.Ardeche]  C(Department)[T.Ardennes]  \\\n",
       "0                       0.0                        0.0   \n",
       "1                       0.0                        0.0   \n",
       "2                       0.0                        0.0   \n",
       "3                       0.0                        0.0   \n",
       "4                       0.0                        0.0   \n",
       "\n",
       "   C(Department)[T.Ariege]  C(Department)[T.Aube]  C(Department)[T.Aude]  \\\n",
       "0                      0.0                    0.0                    0.0   \n",
       "1                      0.0                    0.0                    0.0   \n",
       "2                      0.0                    0.0                    0.0   \n",
       "3                      0.0                    0.0                    0.0   \n",
       "4                      0.0                    0.0                    0.0   \n",
       "\n",
       "   C(Department)[T.Aveyron]  C(Department)[T.Bas-Rhin]       ...         \\\n",
       "0                       0.0                        0.0       ...          \n",
       "1                       0.0                        0.0       ...          \n",
       "2                       0.0                        0.0       ...          \n",
       "3                       0.0                        0.0       ...          \n",
       "4                       0.0                        0.0       ...          \n",
       "\n",
       "   C(Department)[T.Tarn]  C(Department)[T.Tarn-et-Garonne]  \\\n",
       "0                    0.0                               0.0   \n",
       "1                    0.0                               0.0   \n",
       "2                    0.0                               0.0   \n",
       "3                    0.0                               0.0   \n",
       "4                    0.0                               0.0   \n",
       "\n",
       "   C(Department)[T.Var]  C(Department)[T.Vaucluse]  C(Department)[T.Vendee]  \\\n",
       "0                   0.0                        0.0                      0.0   \n",
       "1                   0.0                        0.0                      0.0   \n",
       "2                   0.0                        0.0                      0.0   \n",
       "3                   0.0                        0.0                      0.0   \n",
       "4                   0.0                        0.0                      0.0   \n",
       "\n",
       "   C(Department)[T.Vienne]  C(Department)[T.Vosges]  C(Department)[T.Yonne]  \\\n",
       "0                      0.0                      0.0                     0.0   \n",
       "1                      0.0                      0.0                     0.0   \n",
       "2                      0.0                      0.0                     0.0   \n",
       "3                      0.0                      0.0                     0.0   \n",
       "4                      0.0                      0.0                     0.0   \n",
       "\n",
       "   Literacy  np.log(Pop1831)  \n",
       "0      37.0         5.846525  \n",
       "1      51.0         6.240276  \n",
       "2      13.0         5.697966  \n",
       "3      46.0         5.049215  \n",
       "4      69.0         4.860587  \n",
       "\n",
       "[5 rows x 88 columns]"
      ]
     },
     "execution_count": 20,
     "metadata": {},
     "output_type": "execute_result"
    }
   ],
   "source": [
    "X.head()"
   ]
  },
  {
   "cell_type": "code",
   "execution_count": 22,
   "metadata": {
    "ExecuteTime": {
     "end_time": "2019-05-27T19:34:09.583116Z",
     "start_time": "2019-05-27T19:34:09.578154Z"
    }
   },
   "outputs": [
    {
     "data": {
      "text/plain": [
       "['Intercept',\n",
       " 'C(Department)[T.Aisne]',\n",
       " 'C(Department)[T.Allier]',\n",
       " 'C(Department)[T.Ardeche]',\n",
       " 'C(Department)[T.Ardennes]',\n",
       " 'C(Department)[T.Ariege]',\n",
       " 'C(Department)[T.Aube]',\n",
       " 'C(Department)[T.Aude]',\n",
       " 'C(Department)[T.Aveyron]',\n",
       " 'C(Department)[T.Bas-Rhin]',\n",
       " 'C(Department)[T.Basses-Alpes]',\n",
       " 'C(Department)[T.Basses-Pyrenees]',\n",
       " 'C(Department)[T.Bouches-du-Rhone]',\n",
       " 'C(Department)[T.Calvados]',\n",
       " 'C(Department)[T.Cantal]',\n",
       " 'C(Department)[T.Charente]',\n",
       " 'C(Department)[T.Charente-Inferieure]',\n",
       " 'C(Department)[T.Cher]',\n",
       " 'C(Department)[T.Correze]',\n",
       " 'C(Department)[T.Corse]',\n",
       " \"C(Department)[T.Cote-d'Or]\",\n",
       " 'C(Department)[T.Cotes-du-Nord]',\n",
       " 'C(Department)[T.Creuse]',\n",
       " 'C(Department)[T.Deux-Sevres]',\n",
       " 'C(Department)[T.Dordogne]',\n",
       " 'C(Department)[T.Doubs]',\n",
       " 'C(Department)[T.Drome]',\n",
       " 'C(Department)[T.Eure]',\n",
       " 'C(Department)[T.Eure-et-Loir]',\n",
       " 'C(Department)[T.Finistere]',\n",
       " 'C(Department)[T.Gard]',\n",
       " 'C(Department)[T.Gers]',\n",
       " 'C(Department)[T.Gironde]',\n",
       " 'C(Department)[T.Haut-Rhin]',\n",
       " 'C(Department)[T.Haute-Garonne]',\n",
       " 'C(Department)[T.Haute-Loire]',\n",
       " 'C(Department)[T.Haute-Marne]',\n",
       " 'C(Department)[T.Haute-Saone]',\n",
       " 'C(Department)[T.Haute-Vienne]',\n",
       " 'C(Department)[T.Hautes-Alpes]',\n",
       " 'C(Department)[T.Hautes-Pyrenees]',\n",
       " 'C(Department)[T.Herault]',\n",
       " 'C(Department)[T.Ille-et-Vilaine]',\n",
       " 'C(Department)[T.Indre]',\n",
       " 'C(Department)[T.Indre-et-Loire]',\n",
       " 'C(Department)[T.Isere]',\n",
       " 'C(Department)[T.Jura]',\n",
       " 'C(Department)[T.Landes]',\n",
       " 'C(Department)[T.Loir-et-Cher]',\n",
       " 'C(Department)[T.Loire]',\n",
       " 'C(Department)[T.Loire-Inferieure]',\n",
       " 'C(Department)[T.Loiret]',\n",
       " 'C(Department)[T.Lot]',\n",
       " 'C(Department)[T.Lot-et-Garonne]',\n",
       " 'C(Department)[T.Lozere]',\n",
       " 'C(Department)[T.Maine-et-Loire]',\n",
       " 'C(Department)[T.Manche]',\n",
       " 'C(Department)[T.Marne]',\n",
       " 'C(Department)[T.Mayenne]',\n",
       " 'C(Department)[T.Meurthe]',\n",
       " 'C(Department)[T.Meuse]',\n",
       " 'C(Department)[T.Morbihan]',\n",
       " 'C(Department)[T.Moselle]',\n",
       " 'C(Department)[T.Nievre]',\n",
       " 'C(Department)[T.Nord]',\n",
       " 'C(Department)[T.Oise]',\n",
       " 'C(Department)[T.Orne]',\n",
       " 'C(Department)[T.Pas-de-Calais]',\n",
       " 'C(Department)[T.Puy-de-Dome]',\n",
       " 'C(Department)[T.Pyrenees-Orientales]',\n",
       " 'C(Department)[T.Rhone]',\n",
       " 'C(Department)[T.Saone-et-Loire]',\n",
       " 'C(Department)[T.Sarthe]',\n",
       " 'C(Department)[T.Seine]',\n",
       " 'C(Department)[T.Seine-Inferieure]',\n",
       " 'C(Department)[T.Seine-et-Marne]',\n",
       " 'C(Department)[T.Seine-et-Oise]',\n",
       " 'C(Department)[T.Somme]',\n",
       " 'C(Department)[T.Tarn]',\n",
       " 'C(Department)[T.Tarn-et-Garonne]',\n",
       " 'C(Department)[T.Var]',\n",
       " 'C(Department)[T.Vaucluse]',\n",
       " 'C(Department)[T.Vendee]',\n",
       " 'C(Department)[T.Vienne]',\n",
       " 'C(Department)[T.Vosges]',\n",
       " 'C(Department)[T.Yonne]',\n",
       " 'Literacy',\n",
       " 'np.log(Pop1831)']"
      ]
     },
     "execution_count": 22,
     "metadata": {},
     "output_type": "execute_result"
    }
   ],
   "source": [
    "list(X.columns.values)"
   ]
  },
  {
   "cell_type": "markdown",
   "metadata": {},
   "source": [
    "By default, the `C(Department)` is the same as `C(Department, Treatment)` which is the dummy encoding for categorical variables and by default it will drop the first value to avoid dummy trap. Patsy also support effect encoding which we will go over in future post. "
   ]
  },
  {
   "cell_type": "markdown",
   "metadata": {},
   "source": [
    "Another advantage of patsy formula is it also support various effect coding for the categorical variable\n"
   ]
  },
  {
   "cell_type": "code",
   "execution_count": null,
   "metadata": {},
   "outputs": [],
   "source": []
  }
 ],
 "metadata": {
  "jupytext": {
   "formats": "ipynb,md"
  },
  "kernelspec": {
   "display_name": "Python 3",
   "language": "python",
   "name": "python3"
  },
  "language_info": {
   "codemirror_mode": {
    "name": "ipython",
    "version": 3
   },
   "file_extension": ".py",
   "mimetype": "text/x-python",
   "name": "python",
   "nbconvert_exporter": "python",
   "pygments_lexer": "ipython3",
   "version": "3.6.8"
  },
  "varInspector": {
   "cols": {
    "lenName": 16,
    "lenType": 16,
    "lenVar": 40
   },
   "kernels_config": {
    "python": {
     "delete_cmd_postfix": "",
     "delete_cmd_prefix": "del ",
     "library": "var_list.py",
     "varRefreshCmd": "print(var_dic_list())"
    },
    "r": {
     "delete_cmd_postfix": ") ",
     "delete_cmd_prefix": "rm(",
     "library": "var_list.r",
     "varRefreshCmd": "cat(var_dic_list()) "
    }
   },
   "types_to_exclude": [
    "module",
    "function",
    "builtin_function_or_method",
    "instance",
    "_Feature"
   ],
   "window_display": false
  }
 },
 "nbformat": 4,
 "nbformat_minor": 2
}
